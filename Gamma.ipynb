{
  "nbformat": 4,
  "nbformat_minor": 0,
  "metadata": {
    "colab": {
      "private_outputs": true,
      "provenance": []
    },
    "kernelspec": {
      "name": "python3",
      "display_name": "Python 3"
    },
    "language_info": {
      "name": "python"
    }
  },
  "cells": [
    {
      "cell_type": "code",
      "source": [
        "import pandas as pd\n",
        "import scipy.stats as stats\n",
        "import matplotlib.pyplot as plt\n",
        "import numpy as np\n",
        "import plotly.graph_objects as go\n",
        "from sklearn.mixture import GaussianMixture\n",
        "from sklearn.preprocessing import StandardScaler\n",
        "from scipy.stats import gamma, chisquare, kstest"
      ],
      "metadata": {
        "id": "kLxrA74sgLl1"
      },
      "execution_count": null,
      "outputs": []
    },
    {
      "cell_type": "code",
      "source": [
        "!pip install plotly\n"
      ],
      "metadata": {
        "id": "c7K04Bk2lIF8"
      },
      "execution_count": null,
      "outputs": []
    },
    {
      "cell_type": "code",
      "execution_count": null,
      "metadata": {
        "id": "mdck-ljVdirN"
      },
      "outputs": [],
      "source": [
        "df = pd.read_csv('/content/drive/MyDrive/mqttdataset_reduced.csv')\n",
        "\n",
        "df = df.loc[df['tcp.len'] > 0]\n",
        "df = df.loc[df['tcp.time_delta'] > 0]\n",
        "\n",
        "df = df[['tcp.time_delta', 'tcp.len']]\n",
        "\n",
        "df.rename(columns={\n",
        "    'tcp.time_delta': 'gamma_time_delta', 'tcp.len': 'gamma_data_length'\n",
        "}, inplace=True)\n",
        "\n",
        "df\n"
      ]
    },
    {
      "cell_type": "code",
      "source": [
        "# Assuming df['gamma_time_delta'] exists\n",
        "data = df['gamma_time_delta']\n",
        "\n",
        "# Remove outliers using 1% and 99% quantiles\n",
        "lower_quantile = 18e-6\n",
        "upper_quantile = 804e-6\n",
        "filtered_data = data[(data >= lower_quantile) & (data <= upper_quantile)]"
      ],
      "metadata": {
        "id": "vZk01sk0lSEm"
      },
      "execution_count": null,
      "outputs": []
    },
    {
      "cell_type": "code",
      "source": [
        "# Create histogram\n",
        "fig = go.Figure(\n",
        "    data=[go.Histogram(\n",
        "        x=filtered_data,\n",
        "        nbinsx=5000,\n",
        "        marker_color='#bd93f9'  # Dracula purple\n",
        "    )]\n",
        ")\n",
        "\n",
        "# Apply Dracula-style dark theme\n",
        "fig.update_layout(\n",
        "    title='Simple Histogram',\n",
        "    xaxis_title='Value',\n",
        "    yaxis_title='Count',\n",
        "    template='plotly_dark',\n",
        "    plot_bgcolor='#282a36',    # Dracula background\n",
        "    paper_bgcolor='#282a36',\n",
        "    font=dict(color='#f8f8f2'),  # Dracula foreground\n",
        "    xaxis=dict(gridcolor='#44475a'),\n",
        "    yaxis=dict(gridcolor='#44475a')\n",
        ")\n",
        "\n",
        "fig.show()"
      ],
      "metadata": {
        "id": "GBNxJvd3nsBB"
      },
      "execution_count": null,
      "outputs": []
    },
    {
      "cell_type": "code",
      "source": [
        "# Fit gamma distribution to filtered data\n",
        "shape, loc, scale = stats.gamma.fit(filtered_data)\n",
        "print(f\"Gamma fit parameters after outlier removal:\\nShape (α): {shape}\\nLocation (loc): {loc}\\nScale (θ): {scale}\")\n",
        "\n",
        "# Prepare x values for the gamma PDF curve\n",
        "x = np.linspace(filtered_data.min(), filtered_data.max(), 2000)\n",
        "pdf = stats.gamma.pdf(x, shape, loc=loc, scale=scale)\n",
        "\n"
      ],
      "metadata": {
        "id": "cELAiexInu9N"
      },
      "execution_count": null,
      "outputs": []
    },
    {
      "cell_type": "code",
      "source": [
        "# Create histogram trace\n",
        "hist = go.Histogram(\n",
        "    x=filtered_data,\n",
        "    nbinsx=500,\n",
        "    histnorm='probability density',\n",
        "    opacity=0.8,\n",
        "    marker_color='skyblue',\n",
        "    name='Histogram'\n",
        ")\n",
        "\n",
        "# Create gamma PDF line trace\n",
        "pdf_line = go.Scatter(\n",
        "    x=x,\n",
        "    y=pdf,\n",
        "    mode='lines',\n",
        "    line=dict(color='red', width=3),\n",
        "    name='Gamma PDF fit'\n",
        ")\n",
        "\n",
        "# Layout with dark theme and zoom\n",
        "layout = go.Layout(\n",
        "    title='Gamma Fit for gamma_time_delta (Outliers Removed)',\n",
        "    template='plotly_dark',\n",
        "    plot_bgcolor='#282a36',    # Dracula background\n",
        "    paper_bgcolor='#282a36',\n",
        "    font=dict(color='#f8f8f2'),  # Dracula foreground\n",
        "    xaxis=dict(gridcolor='#44475a'),\n",
        "    yaxis=dict(gridcolor='#44475a')\n",
        ")\n",
        "\n",
        "fig = go.Figure(data=[hist, pdf_line], layout=layout)\n",
        "fig.show()"
      ],
      "metadata": {
        "id": "FhJebsumrV2s"
      },
      "execution_count": null,
      "outputs": []
    },
    {
      "cell_type": "code",
      "source": [
        "# 1️⃣ Kolmogorov-Smirnov Test\n",
        "ks_stat, ks_pvalue = kstest(filtered_data, 'gamma', args=(shape, loc, scale))\n",
        "print(f\"Kolmogorov-Smirnov Test:\")\n",
        "print(f\"Statistic: {ks_stat:.4f}, p-value: {ks_pvalue:.4f}\")"
      ],
      "metadata": {
        "id": "ZI6IivfDu5L9"
      },
      "execution_count": null,
      "outputs": []
    },
    {
      "cell_type": "code",
      "source": [
        "# 2️⃣ Chi-Squared Test\n",
        "n_bins = 20\n",
        "quantiles = np.quantile(filtered_data, np.linspace(0, 1, n_bins + 1))\n",
        "observed_freq, _ = np.histogram(filtered_data, bins=quantiles)\n",
        "\n",
        "# Compute expected frequency for each bin from the gamma CDF\n",
        "expected_freq = []\n",
        "for i in range(n_bins):\n",
        "    lower = gamma.cdf(quantiles[i], shape, loc, scale)\n",
        "    upper = gamma.cdf(quantiles[i + 1], shape, loc, scale)\n",
        "    expected = (upper - lower) * len(filtered_data)\n",
        "    expected_freq.append(expected)\n",
        "\n",
        "# ⚠️ Normalize expected so it matches observed total\n",
        "expected_freq = np.array(expected_freq)\n",
        "expected_freq *= observed_freq.sum() / expected_freq.sum()\n",
        "\n",
        "# Chi-squared test\n",
        "chi2_stat, chi2_pvalue = chisquare(f_obs=observed_freq, f_exp=expected_freq)\n",
        "print(f\"\\nChi-Squared Test:\\nStatistic: {chi2_stat:.4f}, p-value: {chi2_pvalue:.4f}\")\n"
      ],
      "metadata": {
        "id": "s7Nr-aLAgysA"
      },
      "execution_count": null,
      "outputs": []
    },
    {
      "cell_type": "code",
      "source": [
        "observed_freq"
      ],
      "metadata": {
        "id": "9v6ZOxvzhLlQ"
      },
      "execution_count": null,
      "outputs": []
    },
    {
      "cell_type": "code",
      "source": [],
      "metadata": {
        "id": "lKAhERXmj5By"
      },
      "execution_count": null,
      "outputs": []
    }
  ]
}